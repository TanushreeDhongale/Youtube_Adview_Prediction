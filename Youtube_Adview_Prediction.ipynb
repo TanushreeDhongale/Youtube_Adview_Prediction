{
  "nbformat": 4,
  "nbformat_minor": 0,
  "metadata": {
    "colab": {
      "name": "Youtube_Adview_Prediction.ipynb",
      "provenance": [],
      "collapsed_sections": []
    },
    "kernelspec": {
      "name": "python3",
      "display_name": "Python 3"
    },
    "language_info": {
      "name": "python"
    }
  },
  "cells": [
    {
      "cell_type": "markdown",
      "metadata": {
        "id": "OQ_JUPDPfOdZ"
      },
      "source": [
        "#Youtube Adview Prediction"
      ]
    },
    {
      "cell_type": "markdown",
      "metadata": {
        "id": "mFf3p9nymKA6"
      },
      "source": [
        "importing python libraries"
      ]
    },
    {
      "cell_type": "code",
      "metadata": {
        "id": "Q7F1wlv4evRU"
      },
      "source": [
        "import numpy as np\n",
        "import pandas as pd\n",
        "import matplotlib.cm as cm\n",
        "import matplotlib.pyplot as plt"
      ],
      "execution_count": 87,
      "outputs": []
    },
    {
      "cell_type": "markdown",
      "metadata": {
        "id": "emt68O9XmORC"
      },
      "source": [
        "importing data i.e., train.csv file"
      ]
    },
    {
      "cell_type": "code",
      "metadata": {
        "id": "R0wN2uDNfdhC"
      },
      "source": [
        "data_train = pd.DataFrame(pd.read_csv('/train.csv'))"
      ],
      "execution_count": 88,
      "outputs": []
    },
    {
      "cell_type": "code",
      "metadata": {
        "colab": {
          "base_uri": "https://localhost:8080/",
          "height": 203
        },
        "id": "o7YIt3Cdlfz4",
        "outputId": "7a2946dc-66c6-4ea2-99e2-eba160f32b10"
      },
      "source": [
        "data_train.head()"
      ],
      "execution_count": 89,
      "outputs": [
        {
          "output_type": "execute_result",
          "data": {
            "text/html": [
              "<div>\n",
              "<style scoped>\n",
              "    .dataframe tbody tr th:only-of-type {\n",
              "        vertical-align: middle;\n",
              "    }\n",
              "\n",
              "    .dataframe tbody tr th {\n",
              "        vertical-align: top;\n",
              "    }\n",
              "\n",
              "    .dataframe thead th {\n",
              "        text-align: right;\n",
              "    }\n",
              "</style>\n",
              "<table border=\"1\" class=\"dataframe\">\n",
              "  <thead>\n",
              "    <tr style=\"text-align: right;\">\n",
              "      <th></th>\n",
              "      <th>vidid</th>\n",
              "      <th>adview</th>\n",
              "      <th>views</th>\n",
              "      <th>likes</th>\n",
              "      <th>dislikes</th>\n",
              "      <th>comment</th>\n",
              "      <th>published</th>\n",
              "      <th>duration</th>\n",
              "      <th>category</th>\n",
              "    </tr>\n",
              "  </thead>\n",
              "  <tbody>\n",
              "    <tr>\n",
              "      <th>0</th>\n",
              "      <td>VID_18655</td>\n",
              "      <td>40</td>\n",
              "      <td>1031602</td>\n",
              "      <td>8523</td>\n",
              "      <td>363</td>\n",
              "      <td>1095</td>\n",
              "      <td>2016-09-14</td>\n",
              "      <td>PT7M37S</td>\n",
              "      <td>F</td>\n",
              "    </tr>\n",
              "    <tr>\n",
              "      <th>1</th>\n",
              "      <td>VID_14135</td>\n",
              "      <td>2</td>\n",
              "      <td>1707</td>\n",
              "      <td>56</td>\n",
              "      <td>2</td>\n",
              "      <td>6</td>\n",
              "      <td>2016-10-01</td>\n",
              "      <td>PT9M30S</td>\n",
              "      <td>D</td>\n",
              "    </tr>\n",
              "    <tr>\n",
              "      <th>2</th>\n",
              "      <td>VID_2187</td>\n",
              "      <td>1</td>\n",
              "      <td>2023</td>\n",
              "      <td>25</td>\n",
              "      <td>0</td>\n",
              "      <td>2</td>\n",
              "      <td>2016-07-02</td>\n",
              "      <td>PT2M16S</td>\n",
              "      <td>C</td>\n",
              "    </tr>\n",
              "    <tr>\n",
              "      <th>3</th>\n",
              "      <td>VID_23096</td>\n",
              "      <td>6</td>\n",
              "      <td>620860</td>\n",
              "      <td>777</td>\n",
              "      <td>161</td>\n",
              "      <td>153</td>\n",
              "      <td>2016-07-27</td>\n",
              "      <td>PT4M22S</td>\n",
              "      <td>H</td>\n",
              "    </tr>\n",
              "    <tr>\n",
              "      <th>4</th>\n",
              "      <td>VID_10175</td>\n",
              "      <td>1</td>\n",
              "      <td>666</td>\n",
              "      <td>1</td>\n",
              "      <td>0</td>\n",
              "      <td>0</td>\n",
              "      <td>2016-06-29</td>\n",
              "      <td>PT31S</td>\n",
              "      <td>D</td>\n",
              "    </tr>\n",
              "  </tbody>\n",
              "</table>\n",
              "</div>"
            ],
            "text/plain": [
              "       vidid  adview    views likes  ... comment   published duration category\n",
              "0  VID_18655      40  1031602  8523  ...    1095  2016-09-14  PT7M37S        F\n",
              "1  VID_14135       2     1707    56  ...       6  2016-10-01  PT9M30S        D\n",
              "2   VID_2187       1     2023    25  ...       2  2016-07-02  PT2M16S        C\n",
              "3  VID_23096       6   620860   777  ...     153  2016-07-27  PT4M22S        H\n",
              "4  VID_10175       1      666     1  ...       0  2016-06-29    PT31S        D\n",
              "\n",
              "[5 rows x 9 columns]"
            ]
          },
          "metadata": {
            "tags": []
          },
          "execution_count": 89
        }
      ]
    },
    {
      "cell_type": "code",
      "metadata": {
        "colab": {
          "base_uri": "https://localhost:8080/"
        },
        "id": "6r9pr6Tjlpn9",
        "outputId": "ce05672a-80af-4f8c-a6b3-f2a4189e2440"
      },
      "source": [
        "data_train.shape"
      ],
      "execution_count": 90,
      "outputs": [
        {
          "output_type": "execute_result",
          "data": {
            "text/plain": [
              "(14999, 9)"
            ]
          },
          "metadata": {
            "tags": []
          },
          "execution_count": 90
        }
      ]
    },
    {
      "cell_type": "markdown",
      "metadata": {
        "id": "n7euM6zd4HzX"
      },
      "source": [
        "#Visualization"
      ]
    },
    {
      "cell_type": "markdown",
      "metadata": {
        "id": "_DWZmpjb4f1n"
      },
      "source": [
        "Individual Plot"
      ]
    },
    {
      "cell_type": "code",
      "metadata": {
        "colab": {
          "base_uri": "https://localhost:8080/",
          "height": 524
        },
        "id": "rUfaU7xV2URT",
        "outputId": "03b3e755-7929-4fde-996b-66c9d73e3610"
      },
      "source": [
        "plt.hist(data_train['category'])\n",
        "plt.show()\n",
        "plt.plot(data_train['adview'])\n",
        "plt.show()"
      ],
      "execution_count": 91,
      "outputs": [
        {
          "output_type": "display_data",
          "data": {
            "image/png": "[encoded data removed]",
            "text/plain": [
              "<Figure size 432x288 with 1 Axes>"
            ]
          },
          "metadata": {
            "tags": [],
            "needs_background": "light"
          }
        },
        {
          "output_type": "display_data",
          "data": {
            "image/png": "[encoded data removed]",
            "text/plain": [
              "<Figure size 432x288 with 1 Axes>"
            ]
          },
          "metadata": {
            "tags": [],
            "needs_background": "light"
          }
        }
      ]
    },
    {
      "cell_type": "markdown",
      "metadata": {
        "id": "On5S1qvu5BKl"
      },
      "source": [
        "Removing videos with adview greater than 2000000 as outliers"
      ]
    },
    {
      "cell_type": "code",
      "metadata": {
        "id": "J57QPzTc5AD9"
      },
      "source": [
        "data_train = data_train[data_train['adview'] < 2000000]"
      ],
      "execution_count": 92,
      "outputs": []
    },
    {
      "cell_type": "markdown",
      "metadata": {
        "id": "B_7iEhn05esQ"
      },
      "source": [
        "Heatmap"
      ]
    },
    {
      "cell_type": "code",
      "metadata": {
        "id": "5fvhBu6K5bcx"
      },
      "source": [
        "import seaborn as sns"
      ],
      "execution_count": 93,
      "outputs": []
    },
    {
      "cell_type": "code",
      "metadata": {
        "colab": {
          "base_uri": "https://localhost:8080/",
          "height": 487
        },
        "id": "SRMR5hXJ5gDP",
        "outputId": "fb544f96-afb4-43ca-cf6b-16a20db6aead"
      },
      "source": [
        "f, ax = plt.subplots(figsize = (10, 8))\n",
        "corr = data_train.corr()\n",
        "sns.heatmap(corr, mask=np.zeros_like(corr, dtype=np.bool), cmap=sns.diverging_palette(220, 10, as_cmap=True),\n",
        "            square = True, ax=ax, annot=True)\n",
        "plt.show()"
      ],
      "execution_count": 94,
      "outputs": [
        {
          "output_type": "display_data",
          "data": {
            "image/png": "[encoded data removed]",
            "text/plain": [
              "<Figure size 720x576 with 2 Axes>"
            ]
          },
          "metadata": {
            "tags": [],
            "needs_background": "light"
          }
        }
      ]
    },
    {
      "cell_type": "markdown",
      "metadata": {
        "id": "RtNmC7V9nQ3J"
      },
      "source": [
        "Removing character 'F' present in the train.csv"
      ]
    },
    {
      "cell_type": "code",
      "metadata": {
        "id": "0OZa8BcsnL6P"
      },
      "source": [
        "data_train = data_train[data_train.views != 'F']\n",
        "data_train = data_train[data_train.likes != 'F']\n",
        "data_train = data_train[data_train.dislikes != 'F']\n",
        "data_train = data_train[data_train.comment != 'F']"
      ],
      "execution_count": 95,
      "outputs": []
    },
    {
      "cell_type": "code",
      "metadata": {
        "colab": {
          "base_uri": "https://localhost:8080/",
          "height": 203
        },
        "id": "fuH3UBUNOQFv",
        "outputId": "81eb6e27-5566-46ea-fa3c-12f3bd651fa4"
      },
      "source": [
        "data_train.head()"
      ],
      "execution_count": 96,
      "outputs": [
        {
          "output_type": "execute_result",
          "data": {
            "text/html": [
              "<div>\n",
              "<style scoped>\n",
              "    .dataframe tbody tr th:only-of-type {\n",
              "        vertical-align: middle;\n",
              "    }\n",
              "\n",
              "    .dataframe tbody tr th {\n",
              "        vertical-align: top;\n",
              "    }\n",
              "\n",
              "    .dataframe thead th {\n",
              "        text-align: right;\n",
              "    }\n",
              "</style>\n",
              "<table border=\"1\" class=\"dataframe\">\n",
              "  <thead>\n",
              "    <tr style=\"text-align: right;\">\n",
              "      <th></th>\n",
              "      <th>vidid</th>\n",
              "      <th>adview</th>\n",
              "      <th>views</th>\n",
              "      <th>likes</th>\n",
              "      <th>dislikes</th>\n",
              "      <th>comment</th>\n",
              "      <th>published</th>\n",
              "      <th>duration</th>\n",
              "      <th>category</th>\n",
              "    </tr>\n",
              "  </thead>\n",
              "  <tbody>\n",
              "    <tr>\n",
              "      <th>0</th>\n",
              "      <td>VID_18655</td>\n",
              "      <td>40</td>\n",
              "      <td>1031602</td>\n",
              "      <td>8523</td>\n",
              "      <td>363</td>\n",
              "      <td>1095</td>\n",
              "      <td>2016-09-14</td>\n",
              "      <td>PT7M37S</td>\n",
              "      <td>F</td>\n",
              "    </tr>\n",
              "    <tr>\n",
              "      <th>1</th>\n",
              "      <td>VID_14135</td>\n",
              "      <td>2</td>\n",
              "      <td>1707</td>\n",
              "      <td>56</td>\n",
              "      <td>2</td>\n",
              "      <td>6</td>\n",
              "      <td>2016-10-01</td>\n",
              "      <td>PT9M30S</td>\n",
              "      <td>D</td>\n",
              "    </tr>\n",
              "    <tr>\n",
              "      <th>2</th>\n",
              "      <td>VID_2187</td>\n",
              "      <td>1</td>\n",
              "      <td>2023</td>\n",
              "      <td>25</td>\n",
              "      <td>0</td>\n",
              "      <td>2</td>\n",
              "      <td>2016-07-02</td>\n",
              "      <td>PT2M16S</td>\n",
              "      <td>C</td>\n",
              "    </tr>\n",
              "    <tr>\n",
              "      <th>3</th>\n",
              "      <td>VID_23096</td>\n",
              "      <td>6</td>\n",
              "      <td>620860</td>\n",
              "      <td>777</td>\n",
              "      <td>161</td>\n",
              "      <td>153</td>\n",
              "      <td>2016-07-27</td>\n",
              "      <td>PT4M22S</td>\n",
              "      <td>H</td>\n",
              "    </tr>\n",
              "    <tr>\n",
              "      <th>4</th>\n",
              "      <td>VID_10175</td>\n",
              "      <td>1</td>\n",
              "      <td>666</td>\n",
              "      <td>1</td>\n",
              "      <td>0</td>\n",
              "      <td>0</td>\n",
              "      <td>2016-06-29</td>\n",
              "      <td>PT31S</td>\n",
              "      <td>D</td>\n",
              "    </tr>\n",
              "  </tbody>\n",
              "</table>\n",
              "</div>"
            ],
            "text/plain": [
              "       vidid  adview    views likes  ... comment   published duration category\n",
              "0  VID_18655      40  1031602  8523  ...    1095  2016-09-14  PT7M37S        F\n",
              "1  VID_14135       2     1707    56  ...       6  2016-10-01  PT9M30S        D\n",
              "2   VID_2187       1     2023    25  ...       2  2016-07-02  PT2M16S        C\n",
              "3  VID_23096       6   620860   777  ...     153  2016-07-27  PT4M22S        H\n",
              "4  VID_10175       1      666     1  ...       0  2016-06-29    PT31S        D\n",
              "\n",
              "[5 rows x 9 columns]"
            ]
          },
          "metadata": {
            "tags": []
          },
          "execution_count": 96
        }
      ]
    },
    {
      "cell_type": "markdown",
      "metadata": {
        "id": "CdG2ua3Ll4ho"
      },
      "source": [
        "Assigning each category a number for Category Feature"
      ]
    },
    {
      "cell_type": "code",
      "metadata": {
        "colab": {
          "base_uri": "https://localhost:8080/",
          "height": 203
        },
        "id": "eFgzH-MWl1lb",
        "outputId": "acfb35df-d2ff-4ca2-88c2-150cb34e998d"
      },
      "source": [
        "category = {'A': 1, 'B': 2, 'C': 3, 'D': 4, 'E': 5, 'F': 6, 'G': 7, 'H': 8}\n",
        "data_train['category'] = data_train['category'].map(category)\n",
        "data_train.head()"
      ],
      "execution_count": 97,
      "outputs": [
        {
          "output_type": "execute_result",
          "data": {
            "text/html": [
              "<div>\n",
              "<style scoped>\n",
              "    .dataframe tbody tr th:only-of-type {\n",
              "        vertical-align: middle;\n",
              "    }\n",
              "\n",
              "    .dataframe tbody tr th {\n",
              "        vertical-align: top;\n",
              "    }\n",
              "\n",
              "    .dataframe thead th {\n",
              "        text-align: right;\n",
              "    }\n",
              "</style>\n",
              "<table border=\"1\" class=\"dataframe\">\n",
              "  <thead>\n",
              "    <tr style=\"text-align: right;\">\n",
              "      <th></th>\n",
              "      <th>vidid</th>\n",
              "      <th>adview</th>\n",
              "      <th>views</th>\n",
              "      <th>likes</th>\n",
              "      <th>dislikes</th>\n",
              "      <th>comment</th>\n",
              "      <th>published</th>\n",
              "      <th>duration</th>\n",
              "      <th>category</th>\n",
              "    </tr>\n",
              "  </thead>\n",
              "  <tbody>\n",
              "    <tr>\n",
              "      <th>0</th>\n",
              "      <td>VID_18655</td>\n",
              "      <td>40</td>\n",
              "      <td>1031602</td>\n",
              "      <td>8523</td>\n",
              "      <td>363</td>\n",
              "      <td>1095</td>\n",
              "      <td>2016-09-14</td>\n",
              "      <td>PT7M37S</td>\n",
              "      <td>6</td>\n",
              "    </tr>\n",
              "    <tr>\n",
              "      <th>1</th>\n",
              "      <td>VID_14135</td>\n",
              "      <td>2</td>\n",
              "      <td>1707</td>\n",
              "      <td>56</td>\n",
              "      <td>2</td>\n",
              "      <td>6</td>\n",
              "      <td>2016-10-01</td>\n",
              "      <td>PT9M30S</td>\n",
              "      <td>4</td>\n",
              "    </tr>\n",
              "    <tr>\n",
              "      <th>2</th>\n",
              "      <td>VID_2187</td>\n",
              "      <td>1</td>\n",
              "      <td>2023</td>\n",
              "      <td>25</td>\n",
              "      <td>0</td>\n",
              "      <td>2</td>\n",
              "      <td>2016-07-02</td>\n",
              "      <td>PT2M16S</td>\n",
              "      <td>3</td>\n",
              "    </tr>\n",
              "    <tr>\n",
              "      <th>3</th>\n",
              "      <td>VID_23096</td>\n",
              "      <td>6</td>\n",
              "      <td>620860</td>\n",
              "      <td>777</td>\n",
              "      <td>161</td>\n",
              "      <td>153</td>\n",
              "      <td>2016-07-27</td>\n",
              "      <td>PT4M22S</td>\n",
              "      <td>8</td>\n",
              "    </tr>\n",
              "    <tr>\n",
              "      <th>4</th>\n",
              "      <td>VID_10175</td>\n",
              "      <td>1</td>\n",
              "      <td>666</td>\n",
              "      <td>1</td>\n",
              "      <td>0</td>\n",
              "      <td>0</td>\n",
              "      <td>2016-06-29</td>\n",
              "      <td>PT31S</td>\n",
              "      <td>4</td>\n",
              "    </tr>\n",
              "  </tbody>\n",
              "</table>\n",
              "</div>"
            ],
            "text/plain": [
              "       vidid  adview    views likes  ... comment   published duration category\n",
              "0  VID_18655      40  1031602  8523  ...    1095  2016-09-14  PT7M37S        6\n",
              "1  VID_14135       2     1707    56  ...       6  2016-10-01  PT9M30S        4\n",
              "2   VID_2187       1     2023    25  ...       2  2016-07-02  PT2M16S        3\n",
              "3  VID_23096       6   620860   777  ...     153  2016-07-27  PT4M22S        8\n",
              "4  VID_10175       1      666     1  ...       0  2016-06-29    PT31S        4\n",
              "\n",
              "[5 rows x 9 columns]"
            ]
          },
          "metadata": {
            "tags": []
          },
          "execution_count": 97
        }
      ]
    },
    {
      "cell_type": "markdown",
      "metadata": {
        "id": "a8vQut34pKAK"
      },
      "source": [
        "Converting values to integers for views, comment, likes, dislikes and adview"
      ]
    },
    {
      "cell_type": "code",
      "metadata": {
        "id": "mZ_CfMcenu-h"
      },
      "source": [
        "data_train['views'] = pd.to_numeric(data_train['views'])\n",
        "data_train['comment'] = pd.to_numeric(data_train['comment'])\n",
        "data_train['likes'] = pd.to_numeric(data_train['likes'])\n",
        "data_train['dislikes'] = pd.to_numeric(data_train['dislikes'])\n",
        "data_train['adview'] = pd.to_numeric(data_train['adview'])"
      ],
      "execution_count": 98,
      "outputs": []
    },
    {
      "cell_type": "code",
      "metadata": {
        "id": "4BC0mIRloZDO"
      },
      "source": [
        "column_vidid = data_train['vidid']"
      ],
      "execution_count": 99,
      "outputs": []
    },
    {
      "cell_type": "markdown",
      "metadata": {
        "id": "0l2Kwdyopbth"
      },
      "source": [
        "Encoding features like duration, vidid and published\n",
        "\n"
      ]
    },
    {
      "cell_type": "code",
      "metadata": {
        "id": "9IZbCdYPot_x"
      },
      "source": [
        "from sklearn.preprocessing import LabelEncoder\n",
        "data_train['duration'] = LabelEncoder().fit_transform(data_train['duration'])\n",
        "data_train['vidid'] = LabelEncoder().fit_transform(data_train['vidid'])\n",
        "data_train['published'] = LabelEncoder().fit_transform(data_train['published'])"
      ],
      "execution_count": 100,
      "outputs": []
    },
    {
      "cell_type": "code",
      "metadata": {
        "colab": {
          "base_uri": "https://localhost:8080/",
          "height": 203
        },
        "id": "cJLIvEVNqLNj",
        "outputId": "fc70f716-e1a5-4d7d-a8ab-4b3b209c8b54"
      },
      "source": [
        "data_train.head()"
      ],
      "execution_count": 101,
      "outputs": [
        {
          "output_type": "execute_result",
          "data": {
            "text/html": [
              "<div>\n",
              "<style scoped>\n",
              "    .dataframe tbody tr th:only-of-type {\n",
              "        vertical-align: middle;\n",
              "    }\n",
              "\n",
              "    .dataframe tbody tr th {\n",
              "        vertical-align: top;\n",
              "    }\n",
              "\n",
              "    .dataframe thead th {\n",
              "        text-align: right;\n",
              "    }\n",
              "</style>\n",
              "<table border=\"1\" class=\"dataframe\">\n",
              "  <thead>\n",
              "    <tr style=\"text-align: right;\">\n",
              "      <th></th>\n",
              "      <th>vidid</th>\n",
              "      <th>adview</th>\n",
              "      <th>views</th>\n",
              "      <th>likes</th>\n",
              "      <th>dislikes</th>\n",
              "      <th>comment</th>\n",
              "      <th>published</th>\n",
              "      <th>duration</th>\n",
              "      <th>category</th>\n",
              "    </tr>\n",
              "  </thead>\n",
              "  <tbody>\n",
              "    <tr>\n",
              "      <th>0</th>\n",
              "      <td>5912</td>\n",
              "      <td>40</td>\n",
              "      <td>1031602</td>\n",
              "      <td>8523</td>\n",
              "      <td>363</td>\n",
              "      <td>1095</td>\n",
              "      <td>2168</td>\n",
              "      <td>2925</td>\n",
              "      <td>6</td>\n",
              "    </tr>\n",
              "    <tr>\n",
              "      <th>1</th>\n",
              "      <td>2741</td>\n",
              "      <td>2</td>\n",
              "      <td>1707</td>\n",
              "      <td>56</td>\n",
              "      <td>2</td>\n",
              "      <td>6</td>\n",
              "      <td>2185</td>\n",
              "      <td>3040</td>\n",
              "      <td>4</td>\n",
              "    </tr>\n",
              "    <tr>\n",
              "      <th>2</th>\n",
              "      <td>8138</td>\n",
              "      <td>1</td>\n",
              "      <td>2023</td>\n",
              "      <td>25</td>\n",
              "      <td>0</td>\n",
              "      <td>2</td>\n",
              "      <td>2094</td>\n",
              "      <td>1863</td>\n",
              "      <td>3</td>\n",
              "    </tr>\n",
              "    <tr>\n",
              "      <th>3</th>\n",
              "      <td>9004</td>\n",
              "      <td>6</td>\n",
              "      <td>620860</td>\n",
              "      <td>777</td>\n",
              "      <td>161</td>\n",
              "      <td>153</td>\n",
              "      <td>2119</td>\n",
              "      <td>2546</td>\n",
              "      <td>8</td>\n",
              "    </tr>\n",
              "    <tr>\n",
              "      <th>4</th>\n",
              "      <td>122</td>\n",
              "      <td>1</td>\n",
              "      <td>666</td>\n",
              "      <td>1</td>\n",
              "      <td>0</td>\n",
              "      <td>0</td>\n",
              "      <td>2091</td>\n",
              "      <td>1963</td>\n",
              "      <td>4</td>\n",
              "    </tr>\n",
              "  </tbody>\n",
              "</table>\n",
              "</div>"
            ],
            "text/plain": [
              "   vidid  adview    views  likes  ...  comment  published  duration  category\n",
              "0   5912      40  1031602   8523  ...     1095       2168      2925         6\n",
              "1   2741       2     1707     56  ...        6       2185      3040         4\n",
              "2   8138       1     2023     25  ...        2       2094      1863         3\n",
              "3   9004       6   620860    777  ...      153       2119      2546         8\n",
              "4    122       1      666      1  ...        0       2091      1963         4\n",
              "\n",
              "[5 rows x 9 columns]"
            ]
          },
          "metadata": {
            "tags": []
          },
          "execution_count": 101
        }
      ]
    },
    {
      "cell_type": "code",
      "metadata": {
        "colab": {
          "base_uri": "https://localhost:8080/",
          "height": 487
        },
        "id": "RXymi-THf-xt",
        "outputId": "c17cef40-ca24-4170-81a0-afbe70d02478"
      },
      "source": [
        "f, ax = plt.subplots(figsize = (10, 8))\n",
        "corr = data_train.corr()\n",
        "sns.heatmap(corr, mask=np.zeros_like(corr, dtype=np.bool), cmap=sns.diverging_palette(220, 10, as_cmap=True),\n",
        "            square = True, ax=ax, annot=True)\n",
        "plt.show()"
      ],
      "execution_count": 102,
      "outputs": [
        {
          "output_type": "display_data",
          "data": {
            "image/png": "[encoded data removed]",
            "text/plain": [
              "<Figure size 720x576 with 2 Axes>"
            ]
          },
          "metadata": {
            "tags": [],
            "needs_background": "light"
          }
        }
      ]
    },
    {
      "cell_type": "markdown",
      "metadata": {
        "id": "_jugnflwqYMc"
      },
      "source": [
        "Converting time in seconds for Duration"
      ]
    },
    {
      "cell_type": "code",
      "metadata": {
        "id": "oKOzxqCEqNMQ"
      },
      "source": [
        "import datetime\n",
        "import time"
      ],
      "execution_count": 103,
      "outputs": []
    },
    {
      "cell_type": "code",
      "metadata": {
        "id": "CbQkAZEdqiue"
      },
      "source": [
        "def checki(x):\n",
        "  y = x[2:]\n",
        "  h = ''\n",
        "  m = ''\n",
        "  s = ''\n",
        "  mm = ''\n",
        "  P = ['H', 'M', 'S']\n",
        "  for i in y:\n",
        "    if i not in P:\n",
        "      mm += i\n",
        "    else:\n",
        "      if(i == 'H'):\n",
        "        h = mm\n",
        "        mm = ''\n",
        "      elif(i == 'M'):\n",
        "        m = mm\n",
        "        mm = ''\n",
        "      else:\n",
        "        s = mm\n",
        "        mm = ''\n",
        "  if(h == ''):\n",
        "    h = '00'\n",
        "  if(m == ''):\n",
        "    m = '00'\n",
        "  if(s == ''):\n",
        "    s = '00'\n",
        "  bp = h+':'+m+':'+s\n",
        "  return bp\n",
        "\n",
        "train = pd.read_csv(\"/train.csv\")\n",
        "mp = pd.read_csv('/train.csv')['duration']\n",
        "time = mp.apply(checki)"
      ],
      "execution_count": 104,
      "outputs": []
    },
    {
      "cell_type": "code",
      "metadata": {
        "id": "tKNMd_TNstIx"
      },
      "source": [
        "def func_sec(time_string):\n",
        "  h, m, s = time_string.split(':')\n",
        "  return int(h) * 3600 + int(m) * 60 + int(s)"
      ],
      "execution_count": 105,
      "outputs": []
    },
    {
      "cell_type": "code",
      "metadata": {
        "id": "_vFiHBiLtzJZ"
      },
      "source": [
        "time1 = time.apply(func_sec)"
      ],
      "execution_count": 106,
      "outputs": []
    },
    {
      "cell_type": "code",
      "metadata": {
        "colab": {
          "base_uri": "https://localhost:8080/",
          "height": 203
        },
        "id": "iZyLJEg6uKr-",
        "outputId": "75894bb9-d51f-4d05-9317-0961de90c886"
      },
      "source": [
        "data_train['duration'] = time1\n",
        "data_train.head()"
      ],
      "execution_count": 107,
      "outputs": [
        {
          "output_type": "execute_result",
          "data": {
            "text/html": [
              "<div>\n",
              "<style scoped>\n",
              "    .dataframe tbody tr th:only-of-type {\n",
              "        vertical-align: middle;\n",
              "    }\n",
              "\n",
              "    .dataframe tbody tr th {\n",
              "        vertical-align: top;\n",
              "    }\n",
              "\n",
              "    .dataframe thead th {\n",
              "        text-align: right;\n",
              "    }\n",
              "</style>\n",
              "<table border=\"1\" class=\"dataframe\">\n",
              "  <thead>\n",
              "    <tr style=\"text-align: right;\">\n",
              "      <th></th>\n",
              "      <th>vidid</th>\n",
              "      <th>adview</th>\n",
              "      <th>views</th>\n",
              "      <th>likes</th>\n",
              "      <th>dislikes</th>\n",
              "      <th>comment</th>\n",
              "      <th>published</th>\n",
              "      <th>duration</th>\n",
              "      <th>category</th>\n",
              "    </tr>\n",
              "  </thead>\n",
              "  <tbody>\n",
              "    <tr>\n",
              "      <th>0</th>\n",
              "      <td>5912</td>\n",
              "      <td>40</td>\n",
              "      <td>1031602</td>\n",
              "      <td>8523</td>\n",
              "      <td>363</td>\n",
              "      <td>1095</td>\n",
              "      <td>2168</td>\n",
              "      <td>457</td>\n",
              "      <td>6</td>\n",
              "    </tr>\n",
              "    <tr>\n",
              "      <th>1</th>\n",
              "      <td>2741</td>\n",
              "      <td>2</td>\n",
              "      <td>1707</td>\n",
              "      <td>56</td>\n",
              "      <td>2</td>\n",
              "      <td>6</td>\n",
              "      <td>2185</td>\n",
              "      <td>570</td>\n",
              "      <td>4</td>\n",
              "    </tr>\n",
              "    <tr>\n",
              "      <th>2</th>\n",
              "      <td>8138</td>\n",
              "      <td>1</td>\n",
              "      <td>2023</td>\n",
              "      <td>25</td>\n",
              "      <td>0</td>\n",
              "      <td>2</td>\n",
              "      <td>2094</td>\n",
              "      <td>136</td>\n",
              "      <td>3</td>\n",
              "    </tr>\n",
              "    <tr>\n",
              "      <th>3</th>\n",
              "      <td>9004</td>\n",
              "      <td>6</td>\n",
              "      <td>620860</td>\n",
              "      <td>777</td>\n",
              "      <td>161</td>\n",
              "      <td>153</td>\n",
              "      <td>2119</td>\n",
              "      <td>262</td>\n",
              "      <td>8</td>\n",
              "    </tr>\n",
              "    <tr>\n",
              "      <th>4</th>\n",
              "      <td>122</td>\n",
              "      <td>1</td>\n",
              "      <td>666</td>\n",
              "      <td>1</td>\n",
              "      <td>0</td>\n",
              "      <td>0</td>\n",
              "      <td>2091</td>\n",
              "      <td>31</td>\n",
              "      <td>4</td>\n",
              "    </tr>\n",
              "  </tbody>\n",
              "</table>\n",
              "</div>"
            ],
            "text/plain": [
              "   vidid  adview    views  likes  ...  comment  published  duration  category\n",
              "0   5912      40  1031602   8523  ...     1095       2168       457         6\n",
              "1   2741       2     1707     56  ...        6       2185       570         4\n",
              "2   8138       1     2023     25  ...        2       2094       136         3\n",
              "3   9004       6   620860    777  ...      153       2119       262         8\n",
              "4    122       1      666      1  ...        0       2091        31         4\n",
              "\n",
              "[5 rows x 9 columns]"
            ]
          },
          "metadata": {
            "tags": []
          },
          "execution_count": 107
        }
      ]
    },
    {
      "cell_type": "markdown",
      "metadata": {
        "id": "md-iUUMP6YLk"
      },
      "source": [
        "Split Data"
      ]
    },
    {
      "cell_type": "code",
      "metadata": {
        "colab": {
          "base_uri": "https://localhost:8080/",
          "height": 203
        },
        "id": "hWB0tAf16MXi",
        "outputId": "8dfec4ba-2b59-43e6-9100-f130f7778611"
      },
      "source": [
        "Y_train = pd.DataFrame(data = data_train.iloc[:, 1].values, columns = ['target'])\n",
        "data_train = data_train.drop(['adview'], axis=1)\n",
        "data_train = data_train.drop(['vidid'], axis=1)\n",
        "data_train.head()"
      ],
      "execution_count": 108,
      "outputs": [
        {
          "output_type": "execute_result",
          "data": {
            "text/html": [
              "<div>\n",
              "<style scoped>\n",
              "    .dataframe tbody tr th:only-of-type {\n",
              "        vertical-align: middle;\n",
              "    }\n",
              "\n",
              "    .dataframe tbody tr th {\n",
              "        vertical-align: top;\n",
              "    }\n",
              "\n",
              "    .dataframe thead th {\n",
              "        text-align: right;\n",
              "    }\n",
              "</style>\n",
              "<table border=\"1\" class=\"dataframe\">\n",
              "  <thead>\n",
              "    <tr style=\"text-align: right;\">\n",
              "      <th></th>\n",
              "      <th>views</th>\n",
              "      <th>likes</th>\n",
              "      <th>dislikes</th>\n",
              "      <th>comment</th>\n",
              "      <th>published</th>\n",
              "      <th>duration</th>\n",
              "      <th>category</th>\n",
              "    </tr>\n",
              "  </thead>\n",
              "  <tbody>\n",
              "    <tr>\n",
              "      <th>0</th>\n",
              "      <td>1031602</td>\n",
              "      <td>8523</td>\n",
              "      <td>363</td>\n",
              "      <td>1095</td>\n",
              "      <td>2168</td>\n",
              "      <td>457</td>\n",
              "      <td>6</td>\n",
              "    </tr>\n",
              "    <tr>\n",
              "      <th>1</th>\n",
              "      <td>1707</td>\n",
              "      <td>56</td>\n",
              "      <td>2</td>\n",
              "      <td>6</td>\n",
              "      <td>2185</td>\n",
              "      <td>570</td>\n",
              "      <td>4</td>\n",
              "    </tr>\n",
              "    <tr>\n",
              "      <th>2</th>\n",
              "      <td>2023</td>\n",
              "      <td>25</td>\n",
              "      <td>0</td>\n",
              "      <td>2</td>\n",
              "      <td>2094</td>\n",
              "      <td>136</td>\n",
              "      <td>3</td>\n",
              "    </tr>\n",
              "    <tr>\n",
              "      <th>3</th>\n",
              "      <td>620860</td>\n",
              "      <td>777</td>\n",
              "      <td>161</td>\n",
              "      <td>153</td>\n",
              "      <td>2119</td>\n",
              "      <td>262</td>\n",
              "      <td>8</td>\n",
              "    </tr>\n",
              "    <tr>\n",
              "      <th>4</th>\n",
              "      <td>666</td>\n",
              "      <td>1</td>\n",
              "      <td>0</td>\n",
              "      <td>0</td>\n",
              "      <td>2091</td>\n",
              "      <td>31</td>\n",
              "      <td>4</td>\n",
              "    </tr>\n",
              "  </tbody>\n",
              "</table>\n",
              "</div>"
            ],
            "text/plain": [
              "     views  likes  dislikes  comment  published  duration  category\n",
              "0  1031602   8523       363     1095       2168       457         6\n",
              "1     1707     56         2        6       2185       570         4\n",
              "2     2023     25         0        2       2094       136         3\n",
              "3   620860    777       161      153       2119       262         8\n",
              "4      666      1         0        0       2091        31         4"
            ]
          },
          "metadata": {
            "tags": []
          },
          "execution_count": 108
        }
      ]
    },
    {
      "cell_type": "code",
      "metadata": {
        "id": "pTv65pit7AE7"
      },
      "source": [
        "from sklearn.model_selection import train_test_split\n",
        "X_train, X_test, Y_train, Y_test = train_test_split(data_train, Y_train, \n",
        "                                                test_size=0.2, random_state=42)"
      ],
      "execution_count": 109,
      "outputs": []
    },
    {
      "cell_type": "code",
      "metadata": {
        "colab": {
          "base_uri": "https://localhost:8080/"
        },
        "id": "QcLl4WhSaaSE",
        "outputId": "951ac3e3-9f87-496d-ef45-0589b7fa1fb5"
      },
      "source": [
        "X_train.shape"
      ],
      "execution_count": 110,
      "outputs": [
        {
          "output_type": "execute_result",
          "data": {
            "text/plain": [
              "(11708, 7)"
            ]
          },
          "metadata": {
            "tags": []
          },
          "execution_count": 110
        }
      ]
    },
    {
      "cell_type": "markdown",
      "metadata": {
        "id": "XTmEZV1mahmk"
      },
      "source": [
        "Normalise Data"
      ]
    },
    {
      "cell_type": "code",
      "metadata": {
        "id": "P5TsFP0zagqc"
      },
      "source": [
        "from sklearn.preprocessing import MinMaxScaler\n",
        "scaler = MinMaxScaler()\n",
        "X_train = scaler.fit_transform(X_train)\n",
        "X_test = scaler.fit_transform(X_test)"
      ],
      "execution_count": 111,
      "outputs": []
    },
    {
      "cell_type": "code",
      "metadata": {
        "colab": {
          "base_uri": "https://localhost:8080/"
        },
        "id": "jE9l5lEUa6GK",
        "outputId": "30f9607e-b2e5-44d1-d58a-b351b6f71d62"
      },
      "source": [
        "X_train.mean()"
      ],
      "execution_count": 112,
      "outputs": [
        {
          "output_type": "execute_result",
          "data": {
            "text/plain": [
              "0.1739096800320488"
            ]
          },
          "metadata": {
            "tags": []
          },
          "execution_count": 112
        }
      ]
    },
    {
      "cell_type": "markdown",
      "metadata": {
        "id": "LPulPb3ybRBN"
      },
      "source": [
        "Evaluation Metrics"
      ]
    },
    {
      "cell_type": "code",
      "metadata": {
        "id": "H8937bM0a8KT"
      },
      "source": [
        "from sklearn import metrics\n",
        "def print_error(X_test, Y_test, model_name):\n",
        "  prediction = model_name.predict(X_test)\n",
        "  print('Mean Absolute Error:', metrics.mean_absolute_error(Y_test, prediction))\n",
        "  print('Mean Squared Error:', metrics.mean_squared_error(Y_test, prediction))\n",
        "  print('Root Mean Squared Error:', np.sqrt(metrics.mean_squared_error(Y_test, prediction)))"
      ],
      "execution_count": 113,
      "outputs": []
    },
    {
      "cell_type": "markdown",
      "metadata": {
        "id": "hiVbR4z9cyMJ"
      },
      "source": [
        "Linear Regression"
      ]
    },
    {
      "cell_type": "code",
      "metadata": {
        "colab": {
          "base_uri": "https://localhost:8080/"
        },
        "id": "-gjQheqrc1_q",
        "outputId": "d87c1cb9-4ffe-407c-f96b-bc1d30e9896d"
      },
      "source": [
        "from sklearn import linear_model\n",
        "linear_regression = linear_model.LinearRegression()\n",
        "linear_regression.fit(X_train, Y_train)\n",
        "print_error(X_test, Y_test, linear_regression)"
      ],
      "execution_count": 114,
      "outputs": [
        {
          "output_type": "stream",
          "text": [
            "Mean Absolute Error: 3707.378005824532\n",
            "Mean Squared Error: 835663131.1210337\n",
            "Root Mean Squared Error: 28907.83857573986\n"
          ],
          "name": "stdout"
        }
      ]
    },
    {
      "cell_type": "markdown",
      "metadata": {
        "id": "vlMBDWDceTVk"
      },
      "source": [
        "Support Vector Regression"
      ]
    },
    {
      "cell_type": "code",
      "metadata": {
        "colab": {
          "base_uri": "https://localhost:8080/"
        },
        "id": "zC65IJt6dFEV",
        "outputId": "55607f74-b915-48e0-ab1d-6de41b61d7f8"
      },
      "source": [
        "from sklearn.svm import SVR\n",
        "supportvector_regressor = SVR()\n",
        "supportvector_regressor.fit(X_train, Y_train)\n",
        "print_error(X_test, Y_test, supportvector_regressor)"
      ],
      "execution_count": 115,
      "outputs": [
        {
          "output_type": "stream",
          "text": [
            "/usr/local/lib/python3.7/dist-packages/sklearn/utils/validation.py:760: DataConversionWarning: A column-vector y was passed when a 1d array was expected. Please change the shape of y to (n_samples, ), for example using ravel().\n",
            "  y = column_or_1d(y, warn=True)\n"
          ],
          "name": "stderr"
        },
        {
          "output_type": "stream",
          "text": [
            "Mean Absolute Error: 1696.9438599505638\n",
            "Mean Squared Error: 833685776.029172\n",
            "Root Mean Squared Error: 28873.617300732723\n"
          ],
          "name": "stdout"
        }
      ]
    },
    {
      "cell_type": "markdown",
      "metadata": {
        "id": "LDw3BZQteXzs"
      },
      "source": [
        "Decision Tree Regressor"
      ]
    },
    {
      "cell_type": "code",
      "metadata": {
        "colab": {
          "base_uri": "https://localhost:8080/"
        },
        "id": "jMEcJVTYeKiX",
        "outputId": "69dbc2b9-00da-4a48-d43e-13ab68b5a354"
      },
      "source": [
        "from sklearn.tree import DecisionTreeRegressor\n",
        "decision_tree = DecisionTreeRegressor()\n",
        "decision_tree.fit(X_train, Y_train)\n",
        "print_error(X_test, Y_test, decision_tree)"
      ],
      "execution_count": 116,
      "outputs": [
        {
          "output_type": "stream",
          "text": [
            "Mean Absolute Error: 2760.411543715847\n",
            "Mean Squared Error: 903428392.381489\n",
            "Root Mean Squared Error: 30057.085560338164\n"
          ],
          "name": "stdout"
        }
      ]
    },
    {
      "cell_type": "markdown",
      "metadata": {
        "id": "Na0CqxpifVal"
      },
      "source": [
        "Random Forest Regressor"
      ]
    },
    {
      "cell_type": "code",
      "metadata": {
        "colab": {
          "base_uri": "https://localhost:8080/"
        },
        "id": "UGK2rZezfUac",
        "outputId": "6e006f62-5fdf-469b-edb6-84f250d6b295"
      },
      "source": [
        "from sklearn.ensemble import RandomForestRegressor\n",
        "n_estimators = 200\n",
        "max_depth = 25\n",
        "min_samples_split = 15\n",
        "min_samples_leaf = 2\n",
        "random_forest = RandomForestRegressor(n_estimators = n_estimators,\n",
        "                  max_depth = max_depth, min_samples_split = min_samples_split)\n",
        "random_forest.fit(X_train, Y_train)\n",
        "print_error(X_test, Y_test, random_forest)"
      ],
      "execution_count": 117,
      "outputs": [
        {
          "output_type": "stream",
          "text": [
            "/usr/local/lib/python3.7/dist-packages/ipykernel_launcher.py:8: DataConversionWarning: A column-vector y was passed when a 1d array was expected. Please change the shape of y to (n_samples,), for example using ravel().\n",
            "  \n"
          ],
          "name": "stderr"
        },
        {
          "output_type": "stream",
          "text": [
            "Mean Absolute Error: 3314.520093823536\n",
            "Mean Squared Error: 624288431.4685699\n",
            "Root Mean Squared Error: 24985.76457642571\n"
          ],
          "name": "stdout"
        }
      ]
    },
    {
      "cell_type": "markdown",
      "metadata": {
        "id": "zlJODeTmgjlt"
      },
      "source": [
        "Artificial Neural Networks"
      ]
    },
    {
      "cell_type": "code",
      "metadata": {
        "id": "j1t7RREAgr8s"
      },
      "source": [
        "import keras\n",
        "from keras.layers import Dense"
      ],
      "execution_count": 118,
      "outputs": []
    },
    {
      "cell_type": "code",
      "metadata": {
        "id": "VQv_C1jgt8_V"
      },
      "source": [
        "ann = keras.models.Sequential([\n",
        "                               Dense(6, activation = 'relu',\n",
        "                               input_shape = X_train.shape[1:]),\n",
        "                               Dense(6, activation = 'relu'),\n",
        "                               Dense(1)\n",
        "                              ])"
      ],
      "execution_count": 119,
      "outputs": []
    },
    {
      "cell_type": "code",
      "metadata": {
        "id": "DVSxXZbouBSR"
      },
      "source": [
        "optimizer = keras.optimizers.Adam()\n",
        "loss = keras.losses.mean_squared_error\n",
        "ann.compile(optimizer=optimizer, loss=loss, metrics=['mean_squared_error'])"
      ],
      "execution_count": 120,
      "outputs": []
    },
    {
      "cell_type": "code",
      "metadata": {
        "colab": {
          "base_uri": "https://localhost:8080/"
        },
        "id": "K4J-vhuVuD6P",
        "outputId": "c36412cc-c5d5-4018-f891-df25fc9b50e2"
      },
      "source": [
        "history = ann.fit(X_train, Y_train, epochs = 100)"
      ],
      "execution_count": 121,
      "outputs": [
        {
          "output_type": "stream",
          "text": [
            "Epoch 1/100\n",
            "366/366 [==============================] - 1s 855us/step - loss: 569059870.0232 - mean_squared_error: 569059870.0232\n",
            "Epoch 2/100\n",
            "366/366 [==============================] - 0s 782us/step - loss: 691849361.8052 - mean_squared_error: 691849361.8052\n",
            "Epoch 3/100\n",
            "366/366 [==============================] - 0s 880us/step - loss: 2103222864.9155 - mean_squared_error: 2103222864.9155\n",
            "Epoch 4/100\n",
            "366/366 [==============================] - 0s 882us/step - loss: 1558414986.7287 - mean_squared_error: 1558414986.7287\n",
            "Epoch 5/100\n",
            "366/366 [==============================] - 0s 864us/step - loss: 1148847651.5749 - mean_squared_error: 1148847651.5749\n",
            "Epoch 6/100\n",
            "366/366 [==============================] - 0s 786us/step - loss: 1027521823.1880 - mean_squared_error: 1027521823.1880\n",
            "Epoch 7/100\n",
            "366/366 [==============================] - 0s 784us/step - loss: 594667474.4932 - mean_squared_error: 594667474.4932\n",
            "Epoch 8/100\n",
            "366/366 [==============================] - 0s 813us/step - loss: 709337198.5024 - mean_squared_error: 709337198.5024\n",
            "Epoch 9/100\n",
            "366/366 [==============================] - 0s 834us/step - loss: 1090041293.9857 - mean_squared_error: 1090041293.9857\n",
            "Epoch 10/100\n",
            "366/366 [==============================] - 0s 817us/step - loss: 589975297.7777 - mean_squared_error: 589975297.7777\n",
            "Epoch 11/100\n",
            "366/366 [==============================] - 0s 880us/step - loss: 792286767.6448 - mean_squared_error: 792286767.6448\n",
            "Epoch 12/100\n",
            "366/366 [==============================] - 0s 814us/step - loss: 782972021.1008 - mean_squared_error: 782972021.1008\n",
            "Epoch 13/100\n",
            "366/366 [==============================] - 0s 819us/step - loss: 893017983.6696 - mean_squared_error: 893017983.6696\n",
            "Epoch 14/100\n",
            "366/366 [==============================] - 0s 867us/step - loss: 676577043.7548 - mean_squared_error: 676577043.7548\n",
            "Epoch 15/100\n",
            "366/366 [==============================] - 0s 868us/step - loss: 753811520.6659 - mean_squared_error: 753811520.6659\n",
            "Epoch 16/100\n",
            "366/366 [==============================] - 0s 866us/step - loss: 786019074.9864 - mean_squared_error: 786019074.9864\n",
            "Epoch 17/100\n",
            "366/366 [==============================] - 0s 844us/step - loss: 355982552.0000 - mean_squared_error: 355982552.0000\n",
            "Epoch 18/100\n",
            "366/366 [==============================] - 0s 851us/step - loss: 523672548.7774 - mean_squared_error: 523672548.7774\n",
            "Epoch 19/100\n",
            "366/366 [==============================] - 0s 868us/step - loss: 471107050.9802 - mean_squared_error: 471107050.9802\n",
            "Epoch 20/100\n",
            "366/366 [==============================] - 0s 851us/step - loss: 934038019.2175 - mean_squared_error: 934038019.2175\n",
            "Epoch 21/100\n",
            "366/366 [==============================] - 0s 846us/step - loss: 765401169.5381 - mean_squared_error: 765401169.5381\n",
            "Epoch 22/100\n",
            "366/366 [==============================] - 0s 886us/step - loss: 648550442.2289 - mean_squared_error: 648550442.2289\n",
            "Epoch 23/100\n",
            "366/366 [==============================] - 0s 805us/step - loss: 763141514.1144 - mean_squared_error: 763141514.1144\n",
            "Epoch 24/100\n",
            "366/366 [==============================] - 0s 836us/step - loss: 548147897.0044 - mean_squared_error: 548147897.0044\n",
            "Epoch 25/100\n",
            "366/366 [==============================] - 0s 906us/step - loss: 446452327.4479 - mean_squared_error: 446452327.4479\n",
            "Epoch 26/100\n",
            "366/366 [==============================] - 0s 785us/step - loss: 830990095.2844 - mean_squared_error: 830990095.2844\n",
            "Epoch 27/100\n",
            "366/366 [==============================] - 0s 844us/step - loss: 929323901.4050 - mean_squared_error: 929323901.4050\n",
            "Epoch 28/100\n",
            "366/366 [==============================] - 0s 866us/step - loss: 1258093060.4414 - mean_squared_error: 1258093060.4414\n",
            "Epoch 29/100\n",
            "366/366 [==============================] - 0s 815us/step - loss: 707595260.7411 - mean_squared_error: 707595260.7411\n",
            "Epoch 30/100\n",
            "366/366 [==============================] - 0s 885us/step - loss: 977980856.5058 - mean_squared_error: 977980856.5058\n",
            "Epoch 31/100\n",
            "366/366 [==============================] - 0s 920us/step - loss: 497753043.5313 - mean_squared_error: 497753043.5313\n",
            "Epoch 32/100\n",
            "366/366 [==============================] - 0s 861us/step - loss: 622372760.2217 - mean_squared_error: 622372760.2217\n",
            "Epoch 33/100\n",
            "366/366 [==============================] - 0s 816us/step - loss: 1301422719.2234 - mean_squared_error: 1301422719.2234\n",
            "Epoch 34/100\n",
            "366/366 [==============================] - 0s 896us/step - loss: 866560173.8576 - mean_squared_error: 866560173.8576\n",
            "Epoch 35/100\n",
            "366/366 [==============================] - 0s 853us/step - loss: 917759471.3025 - mean_squared_error: 917759471.3025\n",
            "Epoch 36/100\n",
            "366/366 [==============================] - 0s 808us/step - loss: 699608996.2854 - mean_squared_error: 699608996.2854\n",
            "Epoch 37/100\n",
            "366/366 [==============================] - 0s 892us/step - loss: 1011384220.8999 - mean_squared_error: 1011384220.8999\n",
            "Epoch 38/100\n",
            "366/366 [==============================] - 0s 823us/step - loss: 767927211.5436 - mean_squared_error: 767927211.5436\n",
            "Epoch 39/100\n",
            "366/366 [==============================] - 0s 857us/step - loss: 764362763.3822 - mean_squared_error: 764362763.3822\n",
            "Epoch 40/100\n",
            "366/366 [==============================] - 0s 866us/step - loss: 462753965.5504 - mean_squared_error: 462753965.5504\n",
            "Epoch 41/100\n",
            "366/366 [==============================] - 0s 885us/step - loss: 492195792.4843 - mean_squared_error: 492195792.4843\n",
            "Epoch 42/100\n",
            "366/366 [==============================] - 0s 889us/step - loss: 1391023728.9346 - mean_squared_error: 1391023728.9346\n",
            "Epoch 43/100\n",
            "366/366 [==============================] - 0s 908us/step - loss: 532593645.4843 - mean_squared_error: 532593645.4843\n",
            "Epoch 44/100\n",
            "366/366 [==============================] - 0s 873us/step - loss: 675953756.2807 - mean_squared_error: 675953756.2807\n",
            "Epoch 45/100\n",
            "366/366 [==============================] - 0s 849us/step - loss: 646466103.7350 - mean_squared_error: 646466103.7350\n",
            "Epoch 46/100\n",
            "366/366 [==============================] - 0s 887us/step - loss: 812592904.1267 - mean_squared_error: 812592904.1267\n",
            "Epoch 47/100\n",
            "366/366 [==============================] - 0s 852us/step - loss: 749195170.3154 - mean_squared_error: 749195170.3154\n",
            "Epoch 48/100\n",
            "366/366 [==============================] - 0s 824us/step - loss: 1074949942.5722 - mean_squared_error: 1074949942.5722\n",
            "Epoch 49/100\n",
            "366/366 [==============================] - 0s 893us/step - loss: 934158707.1608 - mean_squared_error: 934158707.1608\n",
            "Epoch 50/100\n",
            "366/366 [==============================] - 0s 905us/step - loss: 911508265.9108 - mean_squared_error: 911508265.9108\n",
            "Epoch 51/100\n",
            "366/366 [==============================] - 0s 895us/step - loss: 671969783.6730 - mean_squared_error: 671969783.6730\n",
            "Epoch 52/100\n",
            "366/366 [==============================] - 0s 886us/step - loss: 1006556945.1104 - mean_squared_error: 1006556945.1104\n",
            "Epoch 53/100\n",
            "366/366 [==============================] - 0s 891us/step - loss: 816172513.1035 - mean_squared_error: 816172513.1035\n",
            "Epoch 54/100\n",
            "366/366 [==============================] - 0s 858us/step - loss: 776541900.2575 - mean_squared_error: 776541900.2575\n",
            "Epoch 55/100\n",
            "366/366 [==============================] - 0s 805us/step - loss: 540578868.3706 - mean_squared_error: 540578868.3706\n",
            "Epoch 56/100\n",
            "366/366 [==============================] - 0s 827us/step - loss: 1154563626.0783 - mean_squared_error: 1154563626.0783\n",
            "Epoch 57/100\n",
            "366/366 [==============================] - 0s 829us/step - loss: 324277649.0599 - mean_squared_error: 324277649.0599\n",
            "Epoch 58/100\n",
            "366/366 [==============================] - 0s 871us/step - loss: 812632188.2337 - mean_squared_error: 812632188.2337\n",
            "Epoch 59/100\n",
            "366/366 [==============================] - 0s 882us/step - loss: 1014754646.4114 - mean_squared_error: 1014754646.4114\n",
            "Epoch 60/100\n",
            "366/366 [==============================] - 0s 775us/step - loss: 313608970.3059 - mean_squared_error: 313608970.3059\n",
            "Epoch 61/100\n",
            "366/366 [==============================] - 0s 863us/step - loss: 794132230.3501 - mean_squared_error: 794132230.3501\n",
            "Epoch 62/100\n",
            "366/366 [==============================] - 0s 901us/step - loss: 924618496.0014 - mean_squared_error: 924618496.0014\n",
            "Epoch 63/100\n",
            "366/366 [==============================] - 0s 818us/step - loss: 771064212.7589 - mean_squared_error: 771064212.7589\n",
            "Epoch 64/100\n",
            "366/366 [==============================] - 0s 862us/step - loss: 374526292.7466 - mean_squared_error: 374526292.7466\n",
            "Epoch 65/100\n",
            "366/366 [==============================] - 0s 894us/step - loss: 720446710.5095 - mean_squared_error: 720446710.5095\n",
            "Epoch 66/100\n",
            "366/366 [==============================] - 0s 862us/step - loss: 381424855.1219 - mean_squared_error: 381424855.1219\n",
            "Epoch 67/100\n",
            "366/366 [==============================] - 0s 823us/step - loss: 1024497554.3460 - mean_squared_error: 1024497554.3460\n",
            "Epoch 68/100\n",
            "366/366 [==============================] - 0s 863us/step - loss: 516017102.7411 - mean_squared_error: 516017102.7411\n",
            "Epoch 69/100\n",
            "366/366 [==============================] - 0s 870us/step - loss: 1106441487.4332 - mean_squared_error: 1106441487.4332\n",
            "Epoch 70/100\n",
            "366/366 [==============================] - 0s 861us/step - loss: 1138523101.6240 - mean_squared_error: 1138523101.6240\n",
            "Epoch 71/100\n",
            "366/366 [==============================] - 0s 928us/step - loss: 739781437.8638 - mean_squared_error: 739781437.8638\n",
            "Epoch 72/100\n",
            "366/366 [==============================] - 0s 850us/step - loss: 539902180.8161 - mean_squared_error: 539902180.8161\n",
            "Epoch 73/100\n",
            "366/366 [==============================] - 0s 825us/step - loss: 676565774.6505 - mean_squared_error: 676565774.6505\n",
            "Epoch 74/100\n",
            "366/366 [==============================] - 0s 865us/step - loss: 666162236.7963 - mean_squared_error: 666162236.7963\n",
            "Epoch 75/100\n",
            "366/366 [==============================] - 0s 908us/step - loss: 1117447763.6948 - mean_squared_error: 1117447763.6948\n",
            "Epoch 76/100\n",
            "366/366 [==============================] - 0s 819us/step - loss: 1208299763.8992 - mean_squared_error: 1208299763.8992\n",
            "Epoch 77/100\n",
            "366/366 [==============================] - 0s 856us/step - loss: 506695284.5429 - mean_squared_error: 506695284.5429\n",
            "Epoch 78/100\n",
            "366/366 [==============================] - 0s 825us/step - loss: 497938449.0947 - mean_squared_error: 497938449.0947\n",
            "Epoch 79/100\n",
            "366/366 [==============================] - 0s 904us/step - loss: 1092528575.0886 - mean_squared_error: 1092528575.0886\n",
            "Epoch 80/100\n",
            "366/366 [==============================] - 0s 880us/step - loss: 428522368.8828 - mean_squared_error: 428522368.8828\n",
            "Epoch 81/100\n",
            "366/366 [==============================] - 0s 869us/step - loss: 1371120245.8774 - mean_squared_error: 1371120245.8774\n",
            "Epoch 82/100\n",
            "366/366 [==============================] - 0s 836us/step - loss: 849370197.3351 - mean_squared_error: 849370197.3351\n",
            "Epoch 83/100\n",
            "366/366 [==============================] - 0s 845us/step - loss: 741698786.7956 - mean_squared_error: 741698786.7956\n",
            "Epoch 84/100\n",
            "366/366 [==============================] - 0s 868us/step - loss: 840049204.2732 - mean_squared_error: 840049204.2732\n",
            "Epoch 85/100\n",
            "366/366 [==============================] - 0s 884us/step - loss: 690509445.0388 - mean_squared_error: 690509445.0388\n",
            "Epoch 86/100\n",
            "366/366 [==============================] - 0s 874us/step - loss: 221262878.9305 - mean_squared_error: 221262878.9305\n",
            "Epoch 87/100\n",
            "366/366 [==============================] - 0s 903us/step - loss: 434893629.1880 - mean_squared_error: 434893629.1880\n",
            "Epoch 88/100\n",
            "366/366 [==============================] - 0s 852us/step - loss: 650079035.0422 - mean_squared_error: 650079035.0422\n",
            "Epoch 89/100\n",
            "366/366 [==============================] - 0s 853us/step - loss: 673687228.4005 - mean_squared_error: 673687228.4005\n",
            "Epoch 90/100\n",
            "366/366 [==============================] - 0s 914us/step - loss: 1352869947.4332 - mean_squared_error: 1352869947.4332\n",
            "Epoch 91/100\n",
            "366/366 [==============================] - 0s 820us/step - loss: 1251600476.9986 - mean_squared_error: 1251600476.9986\n",
            "Epoch 92/100\n",
            "366/366 [==============================] - 0s 891us/step - loss: 452808042.2704 - mean_squared_error: 452808042.2704\n",
            "Epoch 93/100\n",
            "366/366 [==============================] - 0s 886us/step - loss: 437072728.5068 - mean_squared_error: 437072728.5068\n",
            "Epoch 94/100\n",
            "366/366 [==============================] - 0s 867us/step - loss: 750061292.1499 - mean_squared_error: 750061292.1499\n",
            "Epoch 95/100\n",
            "366/366 [==============================] - 0s 869us/step - loss: 324859720.1335 - mean_squared_error: 324859720.1335\n",
            "Epoch 96/100\n",
            "366/366 [==============================] - 0s 864us/step - loss: 701068224.8406 - mean_squared_error: 701068224.8406\n",
            "Epoch 97/100\n",
            "366/366 [==============================] - 0s 986us/step - loss: 839522976.2446 - mean_squared_error: 839522976.2446\n",
            "Epoch 98/100\n",
            "366/366 [==============================] - 0s 888us/step - loss: 483984384.5109 - mean_squared_error: 483984384.5109\n",
            "Epoch 99/100\n",
            "366/366 [==============================] - 0s 852us/step - loss: 880686379.9850 - mean_squared_error: 880686379.9850\n",
            "Epoch 100/100\n",
            "366/366 [==============================] - 0s 874us/step - loss: 1671913790.5654 - mean_squared_error: 1671913790.5654\n"
          ],
          "name": "stdout"
        }
      ]
    },
    {
      "cell_type": "code",
      "metadata": {
        "colab": {
          "base_uri": "https://localhost:8080/"
        },
        "id": "lughIi_XuE7r",
        "outputId": "125a7055-0e0a-486a-d927-9a4a372f974e"
      },
      "source": [
        "ann.summary()"
      ],
      "execution_count": 122,
      "outputs": [
        {
          "output_type": "stream",
          "text": [
            "Model: \"sequential_1\"\n",
            "_________________________________________________________________\n",
            "Layer (type)                 Output Shape              Param #   \n",
            "=================================================================\n",
            "dense_3 (Dense)              (None, 6)                 48        \n",
            "_________________________________________________________________\n",
            "dense_4 (Dense)              (None, 6)                 42        \n",
            "_________________________________________________________________\n",
            "dense_5 (Dense)              (None, 1)                 7         \n",
            "=================================================================\n",
            "Total params: 97\n",
            "Trainable params: 97\n",
            "Non-trainable params: 0\n",
            "_________________________________________________________________\n"
          ],
          "name": "stdout"
        }
      ]
    },
    {
      "cell_type": "code",
      "metadata": {
        "colab": {
          "base_uri": "https://localhost:8080/"
        },
        "id": "cohXX1VnuGcf",
        "outputId": "69217344-1592-4233-9b0f-a7384aff3406"
      },
      "source": [
        "print_error(X_test, Y_test, ann)"
      ],
      "execution_count": 123,
      "outputs": [
        {
          "output_type": "stream",
          "text": [
            "Mean Absolute Error: 3303.0598352880424\n",
            "Mean Squared Error: 829688319.65661\n",
            "Root Mean Squared Error: 28804.310782530625\n"
          ],
          "name": "stdout"
        }
      ]
    },
    {
      "cell_type": "markdown",
      "metadata": {
        "id": "H0qP7mWk3X0k"
      },
      "source": [
        "Saving Scikitlearn models"
      ]
    },
    {
      "cell_type": "code",
      "metadata": {
        "colab": {
          "base_uri": "https://localhost:8080/"
        },
        "id": "oVFEnNou3smP",
        "outputId": "4a25b08c-0c50-4cac-a212-d79f968c0d60"
      },
      "source": [
        "import joblib\n",
        "joblib.dump(decision_tree, 'decisiontree_youtubeadview.pkl')"
      ],
      "execution_count": 124,
      "outputs": [
        {
          "output_type": "execute_result",
          "data": {
            "text/plain": [
              "['decisiontree_youtubeadview.pkl']"
            ]
          },
          "metadata": {
            "tags": []
          },
          "execution_count": 124
        }
      ]
    },
    {
      "cell_type": "markdown",
      "metadata": {
        "id": "h2frukAK333d"
      },
      "source": [
        "Saving Keras Artificial Neural Network Model"
      ]
    },
    {
      "cell_type": "code",
      "metadata": {
        "id": "2N_e763N4DTX"
      },
      "source": [
        "ann.save('ann_youtubeadview.h5')"
      ],
      "execution_count": 125,
      "outputs": []
    },
    {
      "cell_type": "markdown",
      "metadata": {
        "id": "flw5QWLINOhg"
      },
      "source": [
        "#Prediction of Adview"
      ]
    },
    {
      "cell_type": "markdown",
      "metadata": {
        "id": "Z7oXOXznOWie"
      },
      "source": [
        "Importing test data\n"
      ]
    },
    {
      "cell_type": "code",
      "metadata": {
        "id": "201k-vw_NYDU"
      },
      "source": [
        "data_test = pd.DataFrame(pd.read_csv('/test.csv'))"
      ],
      "execution_count": 126,
      "outputs": []
    },
    {
      "cell_type": "code",
      "metadata": {
        "colab": {
          "base_uri": "https://localhost:8080/",
          "height": 203
        },
        "id": "qYTpGVTpNs0b",
        "outputId": "b8080744-5dae-4285-9413-469f0d1fb98c"
      },
      "source": [
        "data_test.head()"
      ],
      "execution_count": 127,
      "outputs": [
        {
          "output_type": "execute_result",
          "data": {
            "text/html": [
              "<div>\n",
              "<style scoped>\n",
              "    .dataframe tbody tr th:only-of-type {\n",
              "        vertical-align: middle;\n",
              "    }\n",
              "\n",
              "    .dataframe tbody tr th {\n",
              "        vertical-align: top;\n",
              "    }\n",
              "\n",
              "    .dataframe thead th {\n",
              "        text-align: right;\n",
              "    }\n",
              "</style>\n",
              "<table border=\"1\" class=\"dataframe\">\n",
              "  <thead>\n",
              "    <tr style=\"text-align: right;\">\n",
              "      <th></th>\n",
              "      <th>vidid</th>\n",
              "      <th>views</th>\n",
              "      <th>likes</th>\n",
              "      <th>dislikes</th>\n",
              "      <th>comment</th>\n",
              "      <th>published</th>\n",
              "      <th>duration</th>\n",
              "      <th>category</th>\n",
              "    </tr>\n",
              "  </thead>\n",
              "  <tbody>\n",
              "    <tr>\n",
              "      <th>0</th>\n",
              "      <td>VID_1054</td>\n",
              "      <td>440238</td>\n",
              "      <td>6153</td>\n",
              "      <td>218</td>\n",
              "      <td>1377</td>\n",
              "      <td>2017-02-18</td>\n",
              "      <td>PT7M29S</td>\n",
              "      <td>B</td>\n",
              "    </tr>\n",
              "    <tr>\n",
              "      <th>1</th>\n",
              "      <td>VID_18629</td>\n",
              "      <td>1040132</td>\n",
              "      <td>8171</td>\n",
              "      <td>340</td>\n",
              "      <td>1047</td>\n",
              "      <td>2016-06-28</td>\n",
              "      <td>PT6M29S</td>\n",
              "      <td>F</td>\n",
              "    </tr>\n",
              "    <tr>\n",
              "      <th>2</th>\n",
              "      <td>VID_13967</td>\n",
              "      <td>28534</td>\n",
              "      <td>31</td>\n",
              "      <td>11</td>\n",
              "      <td>1</td>\n",
              "      <td>2014-03-10</td>\n",
              "      <td>PT37M54S</td>\n",
              "      <td>D</td>\n",
              "    </tr>\n",
              "    <tr>\n",
              "      <th>3</th>\n",
              "      <td>VID_19442</td>\n",
              "      <td>1316715</td>\n",
              "      <td>2284</td>\n",
              "      <td>250</td>\n",
              "      <td>274</td>\n",
              "      <td>2010-06-05</td>\n",
              "      <td>PT9M55S</td>\n",
              "      <td>G</td>\n",
              "    </tr>\n",
              "    <tr>\n",
              "      <th>4</th>\n",
              "      <td>VID_770</td>\n",
              "      <td>1893173</td>\n",
              "      <td>2519</td>\n",
              "      <td>225</td>\n",
              "      <td>116</td>\n",
              "      <td>2016-09-03</td>\n",
              "      <td>PT3M8S</td>\n",
              "      <td>B</td>\n",
              "    </tr>\n",
              "  </tbody>\n",
              "</table>\n",
              "</div>"
            ],
            "text/plain": [
              "       vidid    views likes dislikes comment   published  duration category\n",
              "0   VID_1054   440238  6153      218    1377  2017-02-18   PT7M29S        B\n",
              "1  VID_18629  1040132  8171      340    1047  2016-06-28   PT6M29S        F\n",
              "2  VID_13967    28534    31       11       1  2014-03-10  PT37M54S        D\n",
              "3  VID_19442  1316715  2284      250     274  2010-06-05   PT9M55S        G\n",
              "4    VID_770  1893173  2519      225     116  2016-09-03    PT3M8S        B"
            ]
          },
          "metadata": {
            "tags": []
          },
          "execution_count": 127
        }
      ]
    },
    {
      "cell_type": "code",
      "metadata": {
        "colab": {
          "base_uri": "https://localhost:8080/"
        },
        "id": "yBEiACDVNu9S",
        "outputId": "0a08b7c8-6147-40d5-8de6-d14401c2c135"
      },
      "source": [
        "data_test.shape"
      ],
      "execution_count": 128,
      "outputs": [
        {
          "output_type": "execute_result",
          "data": {
            "text/plain": [
              "(8764, 8)"
            ]
          },
          "metadata": {
            "tags": []
          },
          "execution_count": 128
        }
      ]
    },
    {
      "cell_type": "markdown",
      "metadata": {
        "id": "N4zz_RK3gwy4"
      },
      "source": [
        "Preprocessing the data"
      ]
    },
    {
      "cell_type": "code",
      "metadata": {
        "id": "-PfayiBeORNe"
      },
      "source": [
        "data_test = data_test[data_test.views != 'F']\n",
        "data_test = data_test[data_test.likes != 'F']\n",
        "data_test = data_test[data_test.dislikes != 'F']\n",
        "data_test = data_test[data_test.comment != 'F']"
      ],
      "execution_count": 129,
      "outputs": []
    },
    {
      "cell_type": "code",
      "metadata": {
        "colab": {
          "base_uri": "https://localhost:8080/",
          "height": 203
        },
        "id": "rwOefiIsO_LN",
        "outputId": "9a410cf7-1219-4b3e-a637-374f3a1d588b"
      },
      "source": [
        "data_test.head()"
      ],
      "execution_count": 130,
      "outputs": [
        {
          "output_type": "execute_result",
          "data": {
            "text/html": [
              "<div>\n",
              "<style scoped>\n",
              "    .dataframe tbody tr th:only-of-type {\n",
              "        vertical-align: middle;\n",
              "    }\n",
              "\n",
              "    .dataframe tbody tr th {\n",
              "        vertical-align: top;\n",
              "    }\n",
              "\n",
              "    .dataframe thead th {\n",
              "        text-align: right;\n",
              "    }\n",
              "</style>\n",
              "<table border=\"1\" class=\"dataframe\">\n",
              "  <thead>\n",
              "    <tr style=\"text-align: right;\">\n",
              "      <th></th>\n",
              "      <th>vidid</th>\n",
              "      <th>views</th>\n",
              "      <th>likes</th>\n",
              "      <th>dislikes</th>\n",
              "      <th>comment</th>\n",
              "      <th>published</th>\n",
              "      <th>duration</th>\n",
              "      <th>category</th>\n",
              "    </tr>\n",
              "  </thead>\n",
              "  <tbody>\n",
              "    <tr>\n",
              "      <th>0</th>\n",
              "      <td>VID_1054</td>\n",
              "      <td>440238</td>\n",
              "      <td>6153</td>\n",
              "      <td>218</td>\n",
              "      <td>1377</td>\n",
              "      <td>2017-02-18</td>\n",
              "      <td>PT7M29S</td>\n",
              "      <td>B</td>\n",
              "    </tr>\n",
              "    <tr>\n",
              "      <th>1</th>\n",
              "      <td>VID_18629</td>\n",
              "      <td>1040132</td>\n",
              "      <td>8171</td>\n",
              "      <td>340</td>\n",
              "      <td>1047</td>\n",
              "      <td>2016-06-28</td>\n",
              "      <td>PT6M29S</td>\n",
              "      <td>F</td>\n",
              "    </tr>\n",
              "    <tr>\n",
              "      <th>2</th>\n",
              "      <td>VID_13967</td>\n",
              "      <td>28534</td>\n",
              "      <td>31</td>\n",
              "      <td>11</td>\n",
              "      <td>1</td>\n",
              "      <td>2014-03-10</td>\n",
              "      <td>PT37M54S</td>\n",
              "      <td>D</td>\n",
              "    </tr>\n",
              "    <tr>\n",
              "      <th>3</th>\n",
              "      <td>VID_19442</td>\n",
              "      <td>1316715</td>\n",
              "      <td>2284</td>\n",
              "      <td>250</td>\n",
              "      <td>274</td>\n",
              "      <td>2010-06-05</td>\n",
              "      <td>PT9M55S</td>\n",
              "      <td>G</td>\n",
              "    </tr>\n",
              "    <tr>\n",
              "      <th>4</th>\n",
              "      <td>VID_770</td>\n",
              "      <td>1893173</td>\n",
              "      <td>2519</td>\n",
              "      <td>225</td>\n",
              "      <td>116</td>\n",
              "      <td>2016-09-03</td>\n",
              "      <td>PT3M8S</td>\n",
              "      <td>B</td>\n",
              "    </tr>\n",
              "  </tbody>\n",
              "</table>\n",
              "</div>"
            ],
            "text/plain": [
              "       vidid    views likes dislikes comment   published  duration category\n",
              "0   VID_1054   440238  6153      218    1377  2017-02-18   PT7M29S        B\n",
              "1  VID_18629  1040132  8171      340    1047  2016-06-28   PT6M29S        F\n",
              "2  VID_13967    28534    31       11       1  2014-03-10  PT37M54S        D\n",
              "3  VID_19442  1316715  2284      250     274  2010-06-05   PT9M55S        G\n",
              "4    VID_770  1893173  2519      225     116  2016-09-03    PT3M8S        B"
            ]
          },
          "metadata": {
            "tags": []
          },
          "execution_count": 130
        }
      ]
    },
    {
      "cell_type": "code",
      "metadata": {
        "colab": {
          "base_uri": "https://localhost:8080/",
          "height": 203
        },
        "id": "PoPQe_yjPf34",
        "outputId": "07131f79-aac2-411b-c36e-fc64b82f1586"
      },
      "source": [
        "category = {'A': 1, 'B': 2, 'C': 3, 'D': 4, 'E': 5, 'F': 6, 'G': 7, 'H': 8}\n",
        "data_test['category'] = data_test['category'].map(category)\n",
        "data_test.head()"
      ],
      "execution_count": 131,
      "outputs": [
        {
          "output_type": "execute_result",
          "data": {
            "text/html": [
              "<div>\n",
              "<style scoped>\n",
              "    .dataframe tbody tr th:only-of-type {\n",
              "        vertical-align: middle;\n",
              "    }\n",
              "\n",
              "    .dataframe tbody tr th {\n",
              "        vertical-align: top;\n",
              "    }\n",
              "\n",
              "    .dataframe thead th {\n",
              "        text-align: right;\n",
              "    }\n",
              "</style>\n",
              "<table border=\"1\" class=\"dataframe\">\n",
              "  <thead>\n",
              "    <tr style=\"text-align: right;\">\n",
              "      <th></th>\n",
              "      <th>vidid</th>\n",
              "      <th>views</th>\n",
              "      <th>likes</th>\n",
              "      <th>dislikes</th>\n",
              "      <th>comment</th>\n",
              "      <th>published</th>\n",
              "      <th>duration</th>\n",
              "      <th>category</th>\n",
              "    </tr>\n",
              "  </thead>\n",
              "  <tbody>\n",
              "    <tr>\n",
              "      <th>0</th>\n",
              "      <td>VID_1054</td>\n",
              "      <td>440238</td>\n",
              "      <td>6153</td>\n",
              "      <td>218</td>\n",
              "      <td>1377</td>\n",
              "      <td>2017-02-18</td>\n",
              "      <td>PT7M29S</td>\n",
              "      <td>2</td>\n",
              "    </tr>\n",
              "    <tr>\n",
              "      <th>1</th>\n",
              "      <td>VID_18629</td>\n",
              "      <td>1040132</td>\n",
              "      <td>8171</td>\n",
              "      <td>340</td>\n",
              "      <td>1047</td>\n",
              "      <td>2016-06-28</td>\n",
              "      <td>PT6M29S</td>\n",
              "      <td>6</td>\n",
              "    </tr>\n",
              "    <tr>\n",
              "      <th>2</th>\n",
              "      <td>VID_13967</td>\n",
              "      <td>28534</td>\n",
              "      <td>31</td>\n",
              "      <td>11</td>\n",
              "      <td>1</td>\n",
              "      <td>2014-03-10</td>\n",
              "      <td>PT37M54S</td>\n",
              "      <td>4</td>\n",
              "    </tr>\n",
              "    <tr>\n",
              "      <th>3</th>\n",
              "      <td>VID_19442</td>\n",
              "      <td>1316715</td>\n",
              "      <td>2284</td>\n",
              "      <td>250</td>\n",
              "      <td>274</td>\n",
              "      <td>2010-06-05</td>\n",
              "      <td>PT9M55S</td>\n",
              "      <td>7</td>\n",
              "    </tr>\n",
              "    <tr>\n",
              "      <th>4</th>\n",
              "      <td>VID_770</td>\n",
              "      <td>1893173</td>\n",
              "      <td>2519</td>\n",
              "      <td>225</td>\n",
              "      <td>116</td>\n",
              "      <td>2016-09-03</td>\n",
              "      <td>PT3M8S</td>\n",
              "      <td>2</td>\n",
              "    </tr>\n",
              "  </tbody>\n",
              "</table>\n",
              "</div>"
            ],
            "text/plain": [
              "       vidid    views likes dislikes comment   published  duration  category\n",
              "0   VID_1054   440238  6153      218    1377  2017-02-18   PT7M29S         2\n",
              "1  VID_18629  1040132  8171      340    1047  2016-06-28   PT6M29S         6\n",
              "2  VID_13967    28534    31       11       1  2014-03-10  PT37M54S         4\n",
              "3  VID_19442  1316715  2284      250     274  2010-06-05   PT9M55S         7\n",
              "4    VID_770  1893173  2519      225     116  2016-09-03    PT3M8S         2"
            ]
          },
          "metadata": {
            "tags": []
          },
          "execution_count": 131
        }
      ]
    },
    {
      "cell_type": "code",
      "metadata": {
        "id": "kEh0J4HhSDJz"
      },
      "source": [
        "data_test['views'] = pd.to_numeric(data_test['views'])\n",
        "data_test['comment'] = pd.to_numeric(data_test['comment'])\n",
        "data_test['likes'] = pd.to_numeric(data_test['likes'])\n",
        "data_test['dislikes'] = pd.to_numeric(data_test['dislikes'])"
      ],
      "execution_count": 132,
      "outputs": []
    },
    {
      "cell_type": "code",
      "metadata": {
        "id": "Sd0z6FbwSO5w"
      },
      "source": [
        "column_vidid = data_test['vidid']"
      ],
      "execution_count": 133,
      "outputs": []
    },
    {
      "cell_type": "code",
      "metadata": {
        "colab": {
          "base_uri": "https://localhost:8080/",
          "height": 203
        },
        "id": "iRxU0Pz5SU8c",
        "outputId": "80b53012-050c-460b-c804-e8f936ecd0a0"
      },
      "source": [
        "from sklearn.preprocessing import LabelEncoder\n",
        "data_test['duration'] = LabelEncoder().fit_transform(data_test['duration'])\n",
        "data_test['vidid'] = LabelEncoder().fit_transform(data_test['vidid'])\n",
        "data_test['published'] = LabelEncoder().fit_transform(data_test['published'])\n",
        "data_test.head()"
      ],
      "execution_count": 134,
      "outputs": [
        {
          "output_type": "execute_result",
          "data": {
            "text/html": [
              "<div>\n",
              "<style scoped>\n",
              "    .dataframe tbody tr th:only-of-type {\n",
              "        vertical-align: middle;\n",
              "    }\n",
              "\n",
              "    .dataframe tbody tr th {\n",
              "        vertical-align: top;\n",
              "    }\n",
              "\n",
              "    .dataframe thead th {\n",
              "        text-align: right;\n",
              "    }\n",
              "</style>\n",
              "<table border=\"1\" class=\"dataframe\">\n",
              "  <thead>\n",
              "    <tr style=\"text-align: right;\">\n",
              "      <th></th>\n",
              "      <th>vidid</th>\n",
              "      <th>views</th>\n",
              "      <th>likes</th>\n",
              "      <th>dislikes</th>\n",
              "      <th>comment</th>\n",
              "      <th>published</th>\n",
              "      <th>duration</th>\n",
              "      <th>category</th>\n",
              "    </tr>\n",
              "  </thead>\n",
              "  <tbody>\n",
              "    <tr>\n",
              "      <th>0</th>\n",
              "      <td>231</td>\n",
              "      <td>440238</td>\n",
              "      <td>6153</td>\n",
              "      <td>218</td>\n",
              "      <td>1377</td>\n",
              "      <td>2053</td>\n",
              "      <td>2115</td>\n",
              "      <td>2</td>\n",
              "    </tr>\n",
              "    <tr>\n",
              "      <th>1</th>\n",
              "      <td>3444</td>\n",
              "      <td>1040132</td>\n",
              "      <td>8171</td>\n",
              "      <td>340</td>\n",
              "      <td>1047</td>\n",
              "      <td>1825</td>\n",
              "      <td>2055</td>\n",
              "      <td>6</td>\n",
              "    </tr>\n",
              "    <tr>\n",
              "      <th>2</th>\n",
              "      <td>1593</td>\n",
              "      <td>28534</td>\n",
              "      <td>31</td>\n",
              "      <td>11</td>\n",
              "      <td>1</td>\n",
              "      <td>1009</td>\n",
              "      <td>1506</td>\n",
              "      <td>4</td>\n",
              "    </tr>\n",
              "    <tr>\n",
              "      <th>3</th>\n",
              "      <td>3775</td>\n",
              "      <td>1316715</td>\n",
              "      <td>2284</td>\n",
              "      <td>250</td>\n",
              "      <td>274</td>\n",
              "      <td>116</td>\n",
              "      <td>2265</td>\n",
              "      <td>7</td>\n",
              "    </tr>\n",
              "    <tr>\n",
              "      <th>4</th>\n",
              "      <td>7644</td>\n",
              "      <td>1893173</td>\n",
              "      <td>2519</td>\n",
              "      <td>225</td>\n",
              "      <td>116</td>\n",
              "      <td>1892</td>\n",
              "      <td>1625</td>\n",
              "      <td>2</td>\n",
              "    </tr>\n",
              "  </tbody>\n",
              "</table>\n",
              "</div>"
            ],
            "text/plain": [
              "   vidid    views  likes  dislikes  comment  published  duration  category\n",
              "0    231   440238   6153       218     1377       2053      2115         2\n",
              "1   3444  1040132   8171       340     1047       1825      2055         6\n",
              "2   1593    28534     31        11        1       1009      1506         4\n",
              "3   3775  1316715   2284       250      274        116      2265         7\n",
              "4   7644  1893173   2519       225      116       1892      1625         2"
            ]
          },
          "metadata": {
            "tags": []
          },
          "execution_count": 134
        }
      ]
    },
    {
      "cell_type": "code",
      "metadata": {
        "colab": {
          "base_uri": "https://localhost:8080/",
          "height": 203
        },
        "id": "8Gg71ZM8b2F4",
        "outputId": "8cd4cd6c-65e4-410f-ea18-87ddaeab7a06"
      },
      "source": [
        "train=pd.read_csv('/test.csv')\n",
        "mp = pd.read_csv('/test.csv')['duration']\n",
        "time = mp.apply(checki)\n",
        "\n",
        "def func_sec(time_string):\n",
        "  h, m, s = time_string.split(':')\n",
        "  return int(h) * 3600 + int(m) * 60 + int(s)\n",
        "\n",
        "time1=time.apply(func_sec)\n",
        "\n",
        "data_test['duration']=time1\n",
        "data_test.head()"
      ],
      "execution_count": 135,
      "outputs": [
        {
          "output_type": "execute_result",
          "data": {
            "text/html": [
              "<div>\n",
              "<style scoped>\n",
              "    .dataframe tbody tr th:only-of-type {\n",
              "        vertical-align: middle;\n",
              "    }\n",
              "\n",
              "    .dataframe tbody tr th {\n",
              "        vertical-align: top;\n",
              "    }\n",
              "\n",
              "    .dataframe thead th {\n",
              "        text-align: right;\n",
              "    }\n",
              "</style>\n",
              "<table border=\"1\" class=\"dataframe\">\n",
              "  <thead>\n",
              "    <tr style=\"text-align: right;\">\n",
              "      <th></th>\n",
              "      <th>vidid</th>\n",
              "      <th>views</th>\n",
              "      <th>likes</th>\n",
              "      <th>dislikes</th>\n",
              "      <th>comment</th>\n",
              "      <th>published</th>\n",
              "      <th>duration</th>\n",
              "      <th>category</th>\n",
              "    </tr>\n",
              "  </thead>\n",
              "  <tbody>\n",
              "    <tr>\n",
              "      <th>0</th>\n",
              "      <td>231</td>\n",
              "      <td>440238</td>\n",
              "      <td>6153</td>\n",
              "      <td>218</td>\n",
              "      <td>1377</td>\n",
              "      <td>2053</td>\n",
              "      <td>449</td>\n",
              "      <td>2</td>\n",
              "    </tr>\n",
              "    <tr>\n",
              "      <th>1</th>\n",
              "      <td>3444</td>\n",
              "      <td>1040132</td>\n",
              "      <td>8171</td>\n",
              "      <td>340</td>\n",
              "      <td>1047</td>\n",
              "      <td>1825</td>\n",
              "      <td>389</td>\n",
              "      <td>6</td>\n",
              "    </tr>\n",
              "    <tr>\n",
              "      <th>2</th>\n",
              "      <td>1593</td>\n",
              "      <td>28534</td>\n",
              "      <td>31</td>\n",
              "      <td>11</td>\n",
              "      <td>1</td>\n",
              "      <td>1009</td>\n",
              "      <td>2274</td>\n",
              "      <td>4</td>\n",
              "    </tr>\n",
              "    <tr>\n",
              "      <th>3</th>\n",
              "      <td>3775</td>\n",
              "      <td>1316715</td>\n",
              "      <td>2284</td>\n",
              "      <td>250</td>\n",
              "      <td>274</td>\n",
              "      <td>116</td>\n",
              "      <td>595</td>\n",
              "      <td>7</td>\n",
              "    </tr>\n",
              "    <tr>\n",
              "      <th>4</th>\n",
              "      <td>7644</td>\n",
              "      <td>1893173</td>\n",
              "      <td>2519</td>\n",
              "      <td>225</td>\n",
              "      <td>116</td>\n",
              "      <td>1892</td>\n",
              "      <td>188</td>\n",
              "      <td>2</td>\n",
              "    </tr>\n",
              "  </tbody>\n",
              "</table>\n",
              "</div>"
            ],
            "text/plain": [
              "   vidid    views  likes  dislikes  comment  published  duration  category\n",
              "0    231   440238   6153       218     1377       2053       449         2\n",
              "1   3444  1040132   8171       340     1047       1825       389         6\n",
              "2   1593    28534     31        11        1       1009      2274         4\n",
              "3   3775  1316715   2284       250      274        116       595         7\n",
              "4   7644  1893173   2519       225      116       1892       188         2"
            ]
          },
          "metadata": {
            "tags": []
          },
          "execution_count": 135
        }
      ]
    },
    {
      "cell_type": "code",
      "metadata": {
        "colab": {
          "base_uri": "https://localhost:8080/",
          "height": 203
        },
        "id": "papRxhqxcFYy",
        "outputId": "2b4d5a63-625f-48d3-9b8f-df295a15415c"
      },
      "source": [
        "data_test=data_test.drop(['vidid'],axis=1)\n",
        "data_test.head()"
      ],
      "execution_count": 136,
      "outputs": [
        {
          "output_type": "execute_result",
          "data": {
            "text/html": [
              "<div>\n",
              "<style scoped>\n",
              "    .dataframe tbody tr th:only-of-type {\n",
              "        vertical-align: middle;\n",
              "    }\n",
              "\n",
              "    .dataframe tbody tr th {\n",
              "        vertical-align: top;\n",
              "    }\n",
              "\n",
              "    .dataframe thead th {\n",
              "        text-align: right;\n",
              "    }\n",
              "</style>\n",
              "<table border=\"1\" class=\"dataframe\">\n",
              "  <thead>\n",
              "    <tr style=\"text-align: right;\">\n",
              "      <th></th>\n",
              "      <th>views</th>\n",
              "      <th>likes</th>\n",
              "      <th>dislikes</th>\n",
              "      <th>comment</th>\n",
              "      <th>published</th>\n",
              "      <th>duration</th>\n",
              "      <th>category</th>\n",
              "    </tr>\n",
              "  </thead>\n",
              "  <tbody>\n",
              "    <tr>\n",
              "      <th>0</th>\n",
              "      <td>440238</td>\n",
              "      <td>6153</td>\n",
              "      <td>218</td>\n",
              "      <td>1377</td>\n",
              "      <td>2053</td>\n",
              "      <td>449</td>\n",
              "      <td>2</td>\n",
              "    </tr>\n",
              "    <tr>\n",
              "      <th>1</th>\n",
              "      <td>1040132</td>\n",
              "      <td>8171</td>\n",
              "      <td>340</td>\n",
              "      <td>1047</td>\n",
              "      <td>1825</td>\n",
              "      <td>389</td>\n",
              "      <td>6</td>\n",
              "    </tr>\n",
              "    <tr>\n",
              "      <th>2</th>\n",
              "      <td>28534</td>\n",
              "      <td>31</td>\n",
              "      <td>11</td>\n",
              "      <td>1</td>\n",
              "      <td>1009</td>\n",
              "      <td>2274</td>\n",
              "      <td>4</td>\n",
              "    </tr>\n",
              "    <tr>\n",
              "      <th>3</th>\n",
              "      <td>1316715</td>\n",
              "      <td>2284</td>\n",
              "      <td>250</td>\n",
              "      <td>274</td>\n",
              "      <td>116</td>\n",
              "      <td>595</td>\n",
              "      <td>7</td>\n",
              "    </tr>\n",
              "    <tr>\n",
              "      <th>4</th>\n",
              "      <td>1893173</td>\n",
              "      <td>2519</td>\n",
              "      <td>225</td>\n",
              "      <td>116</td>\n",
              "      <td>1892</td>\n",
              "      <td>188</td>\n",
              "      <td>2</td>\n",
              "    </tr>\n",
              "  </tbody>\n",
              "</table>\n",
              "</div>"
            ],
            "text/plain": [
              "     views  likes  dislikes  comment  published  duration  category\n",
              "0   440238   6153       218     1377       2053       449         2\n",
              "1  1040132   8171       340     1047       1825       389         6\n",
              "2    28534     31        11        1       1009      2274         4\n",
              "3  1316715   2284       250      274        116       595         7\n",
              "4  1893173   2519       225      116       1892       188         2"
            ]
          },
          "metadata": {
            "tags": []
          },
          "execution_count": 136
        }
      ]
    },
    {
      "cell_type": "code",
      "metadata": {
        "id": "LkHDeZQMcuUw"
      },
      "source": [
        "from sklearn.preprocessing import MinMaxScaler\n",
        "scaler = MinMaxScaler()\n",
        "X_test = data_test\n",
        "X_test=scaler.fit_transform(X_test)"
      ],
      "execution_count": 137,
      "outputs": []
    },
    {
      "cell_type": "code",
      "metadata": {
        "id": "cYaBLoWmcytt"
      },
      "source": [
        "from keras.models import load_model\n",
        "model = load_model(\"/content/ann_youtubeadview.h5\")"
      ],
      "execution_count": 138,
      "outputs": []
    },
    {
      "cell_type": "code",
      "metadata": {
        "id": "xEv4EaBTc-Uc"
      },
      "source": [
        "prediction = model.predict(X_test)"
      ],
      "execution_count": 139,
      "outputs": []
    },
    {
      "cell_type": "code",
      "metadata": {
        "colab": {
          "base_uri": "https://localhost:8080/"
        },
        "id": "NyrKXz9sdGT8",
        "outputId": "6d0f7baf-122c-44c0-a8d5-63e3e625f7a0"
      },
      "source": [
        "prediction=pd.DataFrame(prediction)\n",
        "prediction.info()"
      ],
      "execution_count": 140,
      "outputs": [
        {
          "output_type": "stream",
          "text": [
            "<class 'pandas.core.frame.DataFrame'>\n",
            "RangeIndex: 8549 entries, 0 to 8548\n",
            "Data columns (total 1 columns):\n",
            " #   Column  Non-Null Count  Dtype  \n",
            "---  ------  --------------  -----  \n",
            " 0   0       8549 non-null   float32\n",
            "dtypes: float32(1)\n",
            "memory usage: 33.5 KB\n"
          ],
          "name": "stdout"
        }
      ]
    },
    {
      "cell_type": "code",
      "metadata": {
        "id": "5YAd4s9GdGuP"
      },
      "source": [
        "prediction = prediction.rename(columns={0: 'adview'})"
      ],
      "execution_count": 141,
      "outputs": []
    },
    {
      "cell_type": "code",
      "metadata": {
        "colab": {
          "base_uri": "https://localhost:8080/",
          "height": 203
        },
        "id": "h7jjHDs8dYa3",
        "outputId": "49a10150-d8b0-4466-ed83-a4a4b0e8f443"
      },
      "source": [
        "prediction.head()"
      ],
      "execution_count": 142,
      "outputs": [
        {
          "output_type": "execute_result",
          "data": {
            "text/html": [
              "<div>\n",
              "<style scoped>\n",
              "    .dataframe tbody tr th:only-of-type {\n",
              "        vertical-align: middle;\n",
              "    }\n",
              "\n",
              "    .dataframe tbody tr th {\n",
              "        vertical-align: top;\n",
              "    }\n",
              "\n",
              "    .dataframe thead th {\n",
              "        text-align: right;\n",
              "    }\n",
              "</style>\n",
              "<table border=\"1\" class=\"dataframe\">\n",
              "  <thead>\n",
              "    <tr style=\"text-align: right;\">\n",
              "      <th></th>\n",
              "      <th>adview</th>\n",
              "    </tr>\n",
              "  </thead>\n",
              "  <tbody>\n",
              "    <tr>\n",
              "      <th>0</th>\n",
              "      <td>2131.781738</td>\n",
              "    </tr>\n",
              "    <tr>\n",
              "      <th>1</th>\n",
              "      <td>2352.026123</td>\n",
              "    </tr>\n",
              "    <tr>\n",
              "      <th>2</th>\n",
              "      <td>1426.000000</td>\n",
              "    </tr>\n",
              "    <tr>\n",
              "      <th>3</th>\n",
              "      <td>1292.688110</td>\n",
              "    </tr>\n",
              "    <tr>\n",
              "      <th>4</th>\n",
              "      <td>2043.316528</td>\n",
              "    </tr>\n",
              "  </tbody>\n",
              "</table>\n",
              "</div>"
            ],
            "text/plain": [
              "        adview\n",
              "0  2131.781738\n",
              "1  2352.026123\n",
              "2  1426.000000\n",
              "3  1292.688110\n",
              "4  2043.316528"
            ]
          },
          "metadata": {
            "tags": []
          },
          "execution_count": 142
        }
      ]
    },
    {
      "cell_type": "code",
      "metadata": {
        "id": "MJSZjR4tdYwn"
      },
      "source": [
        "prediction.to_csv('predictions.csv')"
      ],
      "execution_count": 143,
      "outputs": []
    }
  ]
}